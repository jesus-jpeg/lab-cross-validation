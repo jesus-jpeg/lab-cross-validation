{
 "cells": [
  {
   "cell_type": "markdown",
   "id": "4f1f333a",
   "metadata": {},
   "source": [
    "![logo_ironhack_blue 7](https://user-images.githubusercontent.com/23629340/40541063-a07a0a8a-601a-11e8-91b5-2f13e4e6b441.png)\n",
    "\n",
    "# Lab | Cross Validation\n",
    "\n",
    "For this lab, we will build a model on customer churn binary classification problem. You will be using `files_for_lab/Customer-Churn.csv` file.\n",
    "\n",
    "\n",
    "\n",
    "### Instructions\n",
    "\n",
    "1. Apply SMOTE for upsampling the data\n",
    "\n",
    "    - Use logistic regression to fit the model and compute the accuracy of the model.\n",
    "    - Use decision tree classifier to fit the model and compute the accuracy of the model.\n",
    "    - Compare the accuracies of the two models.\n",
    "\n",
    "\n",
    "2. Apply TomekLinks for downsampling\n",
    "\n",
    "    - It is important to remember that it does not make the two classes equal but only removes the points from the majority class that are close to other points in minority class.\n",
    "    - Use logistic regression to fit the model and compute the accuracy of the model.\n",
    "    - Use decision tree classifier to fit the model and compute the accuracy of the model.\n",
    "    - Compare the accuracies of the two models.\n",
    "    - You can also apply this algorithm one more time and check the how the imbalance in the two classes changed from the last time."
   ]
  },
  {
   "cell_type": "code",
   "execution_count": 1,
   "id": "586ddb82",
   "metadata": {},
   "outputs": [],
   "source": [
    "# 1.Importing needed libraries\n",
    "import pandas as pd\n",
    "import numpy as np\n",
    "import matplotlib.pyplot as plt\n",
    "import seaborn as sns\n",
    "\n",
    "from scipy import stats\n",
    "from sklearn.preprocessing import StandardScaler\n",
    "from sklearn.model_selection import train_test_split\n",
    "from sklearn.linear_model import LogisticRegression\n",
    "from sklearn.metrics import confusion_matrix, accuracy_score, precision_score, recall_score, f1_score, roc_auc_score\n",
    "from imblearn.under_sampling import RandomUnderSampler\n",
    "from imblearn.over_sampling import RandomOverSampler\n",
    "from imblearn.over_sampling import SMOTE\n",
    "from imblearn.under_sampling import TomekLinks\n",
    "\n",
    "from sklearn.tree import DecisionTreeClassifier\n",
    "\n",
    "import warnings\n",
    "warnings.filterwarnings('ignore')"
   ]
  },
  {
   "cell_type": "code",
   "execution_count": 2,
   "id": "37d423d9",
   "metadata": {},
   "outputs": [
    {
     "data": {
      "text/html": [
       "<div>\n",
       "<style scoped>\n",
       "    .dataframe tbody tr th:only-of-type {\n",
       "        vertical-align: middle;\n",
       "    }\n",
       "\n",
       "    .dataframe tbody tr th {\n",
       "        vertical-align: top;\n",
       "    }\n",
       "\n",
       "    .dataframe thead th {\n",
       "        text-align: right;\n",
       "    }\n",
       "</style>\n",
       "<table border=\"1\" class=\"dataframe\">\n",
       "  <thead>\n",
       "    <tr style=\"text-align: right;\">\n",
       "      <th></th>\n",
       "      <th>gender</th>\n",
       "      <th>SeniorCitizen</th>\n",
       "      <th>Partner</th>\n",
       "      <th>Dependents</th>\n",
       "      <th>tenure</th>\n",
       "      <th>PhoneService</th>\n",
       "      <th>OnlineSecurity</th>\n",
       "      <th>OnlineBackup</th>\n",
       "      <th>DeviceProtection</th>\n",
       "      <th>TechSupport</th>\n",
       "      <th>StreamingTV</th>\n",
       "      <th>StreamingMovies</th>\n",
       "      <th>Contract</th>\n",
       "      <th>MonthlyCharges</th>\n",
       "      <th>TotalCharges</th>\n",
       "      <th>Churn</th>\n",
       "    </tr>\n",
       "  </thead>\n",
       "  <tbody>\n",
       "    <tr>\n",
       "      <th>0</th>\n",
       "      <td>Female</td>\n",
       "      <td>0</td>\n",
       "      <td>Yes</td>\n",
       "      <td>No</td>\n",
       "      <td>1</td>\n",
       "      <td>No</td>\n",
       "      <td>No</td>\n",
       "      <td>Yes</td>\n",
       "      <td>No</td>\n",
       "      <td>No</td>\n",
       "      <td>No</td>\n",
       "      <td>No</td>\n",
       "      <td>Month-to-month</td>\n",
       "      <td>29.85</td>\n",
       "      <td>29.85</td>\n",
       "      <td>No</td>\n",
       "    </tr>\n",
       "    <tr>\n",
       "      <th>1</th>\n",
       "      <td>Male</td>\n",
       "      <td>0</td>\n",
       "      <td>No</td>\n",
       "      <td>No</td>\n",
       "      <td>34</td>\n",
       "      <td>Yes</td>\n",
       "      <td>Yes</td>\n",
       "      <td>No</td>\n",
       "      <td>Yes</td>\n",
       "      <td>No</td>\n",
       "      <td>No</td>\n",
       "      <td>No</td>\n",
       "      <td>One year</td>\n",
       "      <td>56.95</td>\n",
       "      <td>1889.5</td>\n",
       "      <td>No</td>\n",
       "    </tr>\n",
       "    <tr>\n",
       "      <th>2</th>\n",
       "      <td>Male</td>\n",
       "      <td>0</td>\n",
       "      <td>No</td>\n",
       "      <td>No</td>\n",
       "      <td>2</td>\n",
       "      <td>Yes</td>\n",
       "      <td>Yes</td>\n",
       "      <td>Yes</td>\n",
       "      <td>No</td>\n",
       "      <td>No</td>\n",
       "      <td>No</td>\n",
       "      <td>No</td>\n",
       "      <td>Month-to-month</td>\n",
       "      <td>53.85</td>\n",
       "      <td>108.15</td>\n",
       "      <td>Yes</td>\n",
       "    </tr>\n",
       "    <tr>\n",
       "      <th>3</th>\n",
       "      <td>Male</td>\n",
       "      <td>0</td>\n",
       "      <td>No</td>\n",
       "      <td>No</td>\n",
       "      <td>45</td>\n",
       "      <td>No</td>\n",
       "      <td>Yes</td>\n",
       "      <td>No</td>\n",
       "      <td>Yes</td>\n",
       "      <td>Yes</td>\n",
       "      <td>No</td>\n",
       "      <td>No</td>\n",
       "      <td>One year</td>\n",
       "      <td>42.30</td>\n",
       "      <td>1840.75</td>\n",
       "      <td>No</td>\n",
       "    </tr>\n",
       "    <tr>\n",
       "      <th>4</th>\n",
       "      <td>Female</td>\n",
       "      <td>0</td>\n",
       "      <td>No</td>\n",
       "      <td>No</td>\n",
       "      <td>2</td>\n",
       "      <td>Yes</td>\n",
       "      <td>No</td>\n",
       "      <td>No</td>\n",
       "      <td>No</td>\n",
       "      <td>No</td>\n",
       "      <td>No</td>\n",
       "      <td>No</td>\n",
       "      <td>Month-to-month</td>\n",
       "      <td>70.70</td>\n",
       "      <td>151.65</td>\n",
       "      <td>Yes</td>\n",
       "    </tr>\n",
       "  </tbody>\n",
       "</table>\n",
       "</div>"
      ],
      "text/plain": [
       "   gender  SeniorCitizen Partner Dependents  tenure PhoneService  \\\n",
       "0  Female              0     Yes         No       1           No   \n",
       "1    Male              0      No         No      34          Yes   \n",
       "2    Male              0      No         No       2          Yes   \n",
       "3    Male              0      No         No      45           No   \n",
       "4  Female              0      No         No       2          Yes   \n",
       "\n",
       "  OnlineSecurity OnlineBackup DeviceProtection TechSupport StreamingTV  \\\n",
       "0             No          Yes               No          No          No   \n",
       "1            Yes           No              Yes          No          No   \n",
       "2            Yes          Yes               No          No          No   \n",
       "3            Yes           No              Yes         Yes          No   \n",
       "4             No           No               No          No          No   \n",
       "\n",
       "  StreamingMovies        Contract  MonthlyCharges TotalCharges Churn  \n",
       "0              No  Month-to-month           29.85        29.85    No  \n",
       "1              No        One year           56.95       1889.5    No  \n",
       "2              No  Month-to-month           53.85       108.15   Yes  \n",
       "3              No        One year           42.30      1840.75    No  \n",
       "4              No  Month-to-month           70.70       151.65   Yes  "
      ]
     },
     "execution_count": 2,
     "metadata": {},
     "output_type": "execute_result"
    }
   ],
   "source": [
    "# 2.Reading data\n",
    "churnData = pd.read_csv(\"files_for_lab/Customer-Churn.csv\")\n",
    "churnData.head()"
   ]
  },
  {
   "cell_type": "code",
   "execution_count": 3,
   "id": "1c35c0fd",
   "metadata": {},
   "outputs": [],
   "source": [
    "# 3.Changing TotalCharges to numeric\n",
    "churnData['TotalCharges'] = pd.to_numeric(churnData['TotalCharges'], errors='coerce')"
   ]
  },
  {
   "cell_type": "code",
   "execution_count": 4,
   "id": "0ab8c7fb",
   "metadata": {},
   "outputs": [
    {
     "data": {
      "text/plain": [
       "gender               0\n",
       "SeniorCitizen        0\n",
       "Partner              0\n",
       "Dependents           0\n",
       "tenure               0\n",
       "PhoneService         0\n",
       "OnlineSecurity       0\n",
       "OnlineBackup         0\n",
       "DeviceProtection     0\n",
       "TechSupport          0\n",
       "StreamingTV          0\n",
       "StreamingMovies      0\n",
       "Contract             0\n",
       "MonthlyCharges       0\n",
       "TotalCharges        11\n",
       "Churn                0\n",
       "dtype: int64"
      ]
     },
     "execution_count": 4,
     "metadata": {},
     "output_type": "execute_result"
    }
   ],
   "source": [
    "# 4.Dealing with null values\n",
    "churnData.isna().sum()"
   ]
  },
  {
   "cell_type": "code",
   "execution_count": 5,
   "id": "dbf949c2",
   "metadata": {},
   "outputs": [
    {
     "data": {
      "text/plain": [
       "2283.3004408418697"
      ]
     },
     "execution_count": 5,
     "metadata": {},
     "output_type": "execute_result"
    }
   ],
   "source": [
    "meanTC = churnData['TotalCharges'].mean()\n",
    "meanTC"
   ]
  },
  {
   "cell_type": "code",
   "execution_count": 6,
   "id": "297e12b9",
   "metadata": {},
   "outputs": [],
   "source": [
    "churnData[\"TotalCharges\"].fillna(meanTC, inplace=True)"
   ]
  },
  {
   "cell_type": "code",
   "execution_count": 7,
   "id": "e591b724",
   "metadata": {},
   "outputs": [
    {
     "data": {
      "text/html": [
       "<div>\n",
       "<style scoped>\n",
       "    .dataframe tbody tr th:only-of-type {\n",
       "        vertical-align: middle;\n",
       "    }\n",
       "\n",
       "    .dataframe tbody tr th {\n",
       "        vertical-align: top;\n",
       "    }\n",
       "\n",
       "    .dataframe thead th {\n",
       "        text-align: right;\n",
       "    }\n",
       "</style>\n",
       "<table border=\"1\" class=\"dataframe\">\n",
       "  <thead>\n",
       "    <tr style=\"text-align: right;\">\n",
       "      <th></th>\n",
       "      <th>SeniorCitizen</th>\n",
       "      <th>tenure</th>\n",
       "      <th>MonthlyCharges</th>\n",
       "      <th>TotalCharges</th>\n",
       "    </tr>\n",
       "  </thead>\n",
       "  <tbody>\n",
       "    <tr>\n",
       "      <th>0</th>\n",
       "      <td>-0.439916</td>\n",
       "      <td>-1.277445</td>\n",
       "      <td>-1.160323</td>\n",
       "      <td>-0.994971</td>\n",
       "    </tr>\n",
       "    <tr>\n",
       "      <th>1</th>\n",
       "      <td>-0.439916</td>\n",
       "      <td>0.066327</td>\n",
       "      <td>-0.259629</td>\n",
       "      <td>-0.173876</td>\n",
       "    </tr>\n",
       "    <tr>\n",
       "      <th>2</th>\n",
       "      <td>-0.439916</td>\n",
       "      <td>-1.236724</td>\n",
       "      <td>-0.362660</td>\n",
       "      <td>-0.960399</td>\n",
       "    </tr>\n",
       "    <tr>\n",
       "      <th>3</th>\n",
       "      <td>-0.439916</td>\n",
       "      <td>0.514251</td>\n",
       "      <td>-0.746535</td>\n",
       "      <td>-0.195400</td>\n",
       "    </tr>\n",
       "    <tr>\n",
       "      <th>4</th>\n",
       "      <td>-0.439916</td>\n",
       "      <td>-1.236724</td>\n",
       "      <td>0.197365</td>\n",
       "      <td>-0.941193</td>\n",
       "    </tr>\n",
       "    <tr>\n",
       "      <th>...</th>\n",
       "      <td>...</td>\n",
       "      <td>...</td>\n",
       "      <td>...</td>\n",
       "      <td>...</td>\n",
       "    </tr>\n",
       "    <tr>\n",
       "      <th>7038</th>\n",
       "      <td>-0.439916</td>\n",
       "      <td>-0.340876</td>\n",
       "      <td>0.665992</td>\n",
       "      <td>-0.129281</td>\n",
       "    </tr>\n",
       "    <tr>\n",
       "      <th>7039</th>\n",
       "      <td>-0.439916</td>\n",
       "      <td>1.613701</td>\n",
       "      <td>1.277533</td>\n",
       "      <td>2.242808</td>\n",
       "    </tr>\n",
       "    <tr>\n",
       "      <th>7040</th>\n",
       "      <td>-0.439916</td>\n",
       "      <td>-0.870241</td>\n",
       "      <td>-1.168632</td>\n",
       "      <td>-0.855182</td>\n",
       "    </tr>\n",
       "    <tr>\n",
       "      <th>7041</th>\n",
       "      <td>2.273159</td>\n",
       "      <td>-1.155283</td>\n",
       "      <td>0.320338</td>\n",
       "      <td>-0.872777</td>\n",
       "    </tr>\n",
       "    <tr>\n",
       "      <th>7042</th>\n",
       "      <td>-0.439916</td>\n",
       "      <td>1.369379</td>\n",
       "      <td>1.358961</td>\n",
       "      <td>2.013917</td>\n",
       "    </tr>\n",
       "  </tbody>\n",
       "</table>\n",
       "<p>7043 rows × 4 columns</p>\n",
       "</div>"
      ],
      "text/plain": [
       "      SeniorCitizen    tenure  MonthlyCharges  TotalCharges\n",
       "0         -0.439916 -1.277445       -1.160323     -0.994971\n",
       "1         -0.439916  0.066327       -0.259629     -0.173876\n",
       "2         -0.439916 -1.236724       -0.362660     -0.960399\n",
       "3         -0.439916  0.514251       -0.746535     -0.195400\n",
       "4         -0.439916 -1.236724        0.197365     -0.941193\n",
       "...             ...       ...             ...           ...\n",
       "7038      -0.439916 -0.340876        0.665992     -0.129281\n",
       "7039      -0.439916  1.613701        1.277533      2.242808\n",
       "7040      -0.439916 -0.870241       -1.168632     -0.855182\n",
       "7041       2.273159 -1.155283        0.320338     -0.872777\n",
       "7042      -0.439916  1.369379        1.358961      2.013917\n",
       "\n",
       "[7043 rows x 4 columns]"
      ]
     },
     "execution_count": 7,
     "metadata": {},
     "output_type": "execute_result"
    }
   ],
   "source": [
    "# 5.1 Scaling numeric features\n",
    "num=churnData.select_dtypes(np.number)\n",
    "num.head()\n",
    "\n",
    "standard = StandardScaler().fit(num)\n",
    "standard_data = standard.transform(num)\n",
    "standard_data = pd.DataFrame(standard_data, columns=num.columns)\n",
    "standard_data"
   ]
  },
  {
   "cell_type": "markdown",
   "id": "fbebb864",
   "metadata": {},
   "source": [
    "# 1. Apply SMOTE for upsampling"
   ]
  },
  {
   "cell_type": "code",
   "execution_count": 8,
   "id": "2eddc91e",
   "metadata": {},
   "outputs": [
    {
     "data": {
      "text/plain": [
       "No     5174\n",
       "Yes    1869\n",
       "Name: Churn, dtype: int64"
      ]
     },
     "execution_count": 8,
     "metadata": {},
     "output_type": "execute_result"
    }
   ],
   "source": [
    "churnData.Churn.value_counts()"
   ]
  },
  {
   "cell_type": "code",
   "execution_count": 9,
   "id": "4043e95a",
   "metadata": {},
   "outputs": [],
   "source": [
    "X = standard_data\n",
    "y = churnData['Churn']\n",
    "# Split the data into training and testing sets\n",
    "X_train, X_test, y_train, y_test = train_test_split(X, y, test_size=0.3, random_state=42)"
   ]
  },
  {
   "cell_type": "code",
   "execution_count": 10,
   "id": "abd2b17d",
   "metadata": {},
   "outputs": [],
   "source": [
    "# Resample the training data only\n",
    "X_resampled, y_resampled = SMOTE().fit_resample(X_train, y_train)"
   ]
  },
  {
   "cell_type": "code",
   "execution_count": 11,
   "id": "3b041af2",
   "metadata": {},
   "outputs": [],
   "source": [
    "# Train your classifier on the resampled training data\n",
    "classification = LogisticRegression(random_state=42, multi_class='ovr').fit(X_resampled, y_resampled)\n",
    "predictions = classification.predict(X_test)\n",
    "\n",
    "# Calculate confusion matrix and accuracy\n",
    "cm = confusion_matrix(y_test, predictions)\n",
    "accuracy = accuracy_score(y_test, predictions)"
   ]
  },
  {
   "cell_type": "code",
   "execution_count": 12,
   "id": "29f18866",
   "metadata": {},
   "outputs": [
    {
     "data": {
      "image/png": "[encoded data removed]",
      "text/plain": [
       "<Figure size 600x400 with 2 Axes>"
      ]
     },
     "metadata": {},
     "output_type": "display_data"
    }
   ],
   "source": [
    "plt.figure(figsize=(6, 4))\n",
    "sns.heatmap(cm, annot=True, fmt='d', cmap='Blues', square=True, xticklabels=np.unique(y), yticklabels=np.unique(y))\n",
    "plt.xlabel('Predicted Label')\n",
    "plt.ylabel('True Label')\n",
    "plt.title(\"Logistic Regression Model - SMOTE\")\n",
    "plt.show()"
   ]
  },
  {
   "cell_type": "code",
   "execution_count": 13,
   "id": "5d0a3c2a",
   "metadata": {
    "scrolled": true
   },
   "outputs": [
    {
     "name": "stdout",
     "output_type": "stream",
     "text": [
      "Accuracy of the Logistic Regression model is: 0.738760056791292\n"
     ]
    }
   ],
   "source": [
    "print(\"Accuracy of the Logistic Regression model is:\", accuracy)"
   ]
  },
  {
   "cell_type": "markdown",
   "id": "f32adfc7",
   "metadata": {},
   "source": [
    "#### Now we will try with Decission Tree"
   ]
  },
  {
   "cell_type": "code",
   "execution_count": 14,
   "id": "15f29123",
   "metadata": {},
   "outputs": [],
   "source": [
    "# Train your classifier on the resampled training data\n",
    "classification = DecisionTreeClassifier(random_state=42).fit(X_resampled, y_resampled)\n",
    "predictions = classification.predict(X_test)\n",
    "\n",
    "# Calculate confusion matrix and accuracy\n",
    "cm = confusion_matrix(y_test, predictions)\n",
    "accuracy = accuracy_score(y_test, predictions)"
   ]
  },
  {
   "cell_type": "code",
   "execution_count": 15,
   "id": "11c65d2b",
   "metadata": {},
   "outputs": [
    {
     "data": {
      "image/png": "[encoded data removed]",
      "text/plain": [
       "<Figure size 600x400 with 2 Axes>"
      ]
     },
     "metadata": {},
     "output_type": "display_data"
    }
   ],
   "source": [
    "plt.figure(figsize=(6, 4))\n",
    "sns.heatmap(cm, annot=True, fmt='d', cmap='Blues', square=True, xticklabels=np.unique(y), yticklabels=np.unique(y))\n",
    "plt.xlabel('Predicted Label')\n",
    "plt.ylabel('True Label')\n",
    "plt.title(\"Decission Tree Model - SMOTE\")\n",
    "plt.show()"
   ]
  },
  {
   "cell_type": "code",
   "execution_count": 16,
   "id": "6b5555b8",
   "metadata": {
    "scrolled": true
   },
   "outputs": [
    {
     "name": "stdout",
     "output_type": "stream",
     "text": [
      "Accuracy of the Decission Tree model is: 0.7079981069569332\n"
     ]
    }
   ],
   "source": [
    "print(\"Accuracy of the Decission Tree model is:\", accuracy)"
   ]
  },
  {
   "cell_type": "markdown",
   "id": "76eceb8b",
   "metadata": {},
   "source": [
    "<div style=\"background-color: #E7F4E7; border-left: 10px solid #60C060; padding: 10px;\">\n",
    "    <strong>Comparisson</strong>\n",
    "    <p>Logistic Regression has better accuracy</p>\n",
    "</div>"
   ]
  },
  {
   "cell_type": "markdown",
   "id": "e78084fd",
   "metadata": {},
   "source": [
    "# 2. Apply TomekLinks for downsampling"
   ]
  },
  {
   "cell_type": "code",
   "execution_count": 17,
   "id": "dc742e7d",
   "metadata": {},
   "outputs": [
    {
     "data": {
      "text/plain": [
       "No     5174\n",
       "Yes    1869\n",
       "Name: Churn, dtype: int64"
      ]
     },
     "execution_count": 17,
     "metadata": {},
     "output_type": "execute_result"
    }
   ],
   "source": [
    "churnData.Churn.value_counts()"
   ]
  },
  {
   "cell_type": "code",
   "execution_count": 18,
   "id": "138a087a",
   "metadata": {},
   "outputs": [],
   "source": [
    "X = standard_data\n",
    "y = churnData['Churn']\n",
    "# Split the data into training and testing sets\n",
    "X_train, X_test, y_train, y_test = train_test_split(X, y, test_size=0.3, random_state=42)"
   ]
  },
  {
   "cell_type": "code",
   "execution_count": 19,
   "id": "513b5040",
   "metadata": {},
   "outputs": [],
   "source": [
    "# Resample the training data only\n",
    "X_resampled, y_resampled = TomekLinks(sampling_strategy='majority').fit_resample(X_train, y_train)"
   ]
  },
  {
   "cell_type": "code",
   "execution_count": 20,
   "id": "66a73fc7",
   "metadata": {},
   "outputs": [],
   "source": [
    "# Train your classifier on the resampled training data\n",
    "classification = LogisticRegression(random_state=42, multi_class='ovr').fit(X_resampled, y_resampled)\n",
    "predictions = classification.predict(X_test)\n",
    "\n",
    "# Calculate confusion matrix and accuracy\n",
    "cm = confusion_matrix(y_test, predictions)\n",
    "accuracy = accuracy_score(y_test, predictions)"
   ]
  },
  {
   "cell_type": "code",
   "execution_count": 21,
   "id": "e759c8f3",
   "metadata": {},
   "outputs": [
    {
     "data": {
      "image/png": "[encoded data removed]",
      "text/plain": [
       "<Figure size 600x400 with 2 Axes>"
      ]
     },
     "metadata": {},
     "output_type": "display_data"
    }
   ],
   "source": [
    "plt.figure(figsize=(6, 4))\n",
    "sns.heatmap(cm, annot=True, fmt='d', cmap='Blues', square=True, xticklabels=np.unique(y), yticklabels=np.unique(y))\n",
    "plt.xlabel('Predicted Label')\n",
    "plt.ylabel('True Label')\n",
    "plt.title(\"Logistic Regression Model - TomekLinks\")\n",
    "plt.show()"
   ]
  },
  {
   "cell_type": "code",
   "execution_count": 22,
   "id": "5fb3d96c",
   "metadata": {},
   "outputs": [
    {
     "name": "stdout",
     "output_type": "stream",
     "text": [
      "Accuracy of the Logistic Regression model is: 0.7841930903928065\n"
     ]
    }
   ],
   "source": [
    "print(\"Accuracy of the Logistic Regression model is:\", accuracy)"
   ]
  },
  {
   "cell_type": "code",
   "execution_count": 23,
   "id": "03932cbe",
   "metadata": {},
   "outputs": [],
   "source": [
    "# Train your classifier on the resampled training data\n",
    "classification = DecisionTreeClassifier(random_state=42).fit(X_resampled, y_resampled)\n",
    "predictions = classification.predict(X_test)\n",
    "\n",
    "# Calculate confusion matrix and accuracy\n",
    "cm = confusion_matrix(y_test, predictions)\n",
    "accuracy = accuracy_score(y_test, predictions)"
   ]
  },
  {
   "cell_type": "code",
   "execution_count": 24,
   "id": "f222a142",
   "metadata": {},
   "outputs": [
    {
     "data": {
      "image/png": "[encoded data removed]",
      "text/plain": [
       "<Figure size 600x400 with 2 Axes>"
      ]
     },
     "metadata": {},
     "output_type": "display_data"
    }
   ],
   "source": [
    "plt.figure(figsize=(6, 4))\n",
    "sns.heatmap(cm, annot=True, fmt='d', cmap='Blues', square=True, xticklabels=np.unique(y), yticklabels=np.unique(y))\n",
    "plt.xlabel('Predicted Label')\n",
    "plt.ylabel('True Label')\n",
    "plt.title(\"Decission Tree Model - TomekLinks\")\n",
    "plt.show()"
   ]
  },
  {
   "cell_type": "code",
   "execution_count": 25,
   "id": "057f59b9",
   "metadata": {},
   "outputs": [
    {
     "name": "stdout",
     "output_type": "stream",
     "text": [
      "Accuracy of the Decission Tree model is: 0.7203028868906768\n"
     ]
    }
   ],
   "source": [
    "print(\"Accuracy of the Decission Tree model is:\", accuracy)"
   ]
  },
  {
   "cell_type": "markdown",
   "id": "51bbc350",
   "metadata": {},
   "source": [
    "<div style=\"background-color: #E7F4E7; border-left: 10px solid #60C060; padding: 10px;\">\n",
    "    <strong>Final Conclusions</strong>\n",
    "    <p>Logistic Regression TomekLinks is the best model if we look for accuracy</p>\n",
    "</div>"
   ]
  }
 ],
 "metadata": {
  "kernelspec": {
   "display_name": "Python 3 (ipykernel)",
   "language": "python",
   "name": "python3"
  },
  "language_info": {
   "codemirror_mode": {
    "name": "ipython",
    "version": 3
   },
   "file_extension": ".py",
   "mimetype": "text/x-python",
   "name": "python",
   "nbconvert_exporter": "python",
   "pygments_lexer": "ipython3",
   "version": "3.9.13"
  }
 },
 "nbformat": 4,
 "nbformat_minor": 5
}
